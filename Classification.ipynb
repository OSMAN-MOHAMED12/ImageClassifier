{
 "cells": [
  {
   "cell_type": "code",
   "execution_count": 1,
   "id": "79cfab7f",
   "metadata": {},
   "outputs": [],
   "source": [
    "import pandas as pd\n",
    "import numpy as np\n",
    "import matplotlib.pyplot as plt\n",
    "import seaborn as sns\n",
    "import tensorflow as tf"
   ]
  },
  {
   "cell_type": "code",
   "execution_count": 2,
   "id": "1ed0de68",
   "metadata": {},
   "outputs": [],
   "source": [
    "df = pd.read_csv(\"C:/Users/abdir/Downloads/playground-series-s3e17/train.csv\")"
   ]
  },
  {
   "cell_type": "code",
   "execution_count": 3,
   "id": "66f95bb5",
   "metadata": {},
   "outputs": [
    {
     "data": {
      "text/plain": [
       "id                         0\n",
       "Product ID                 0\n",
       "Type                       0\n",
       "Air temperature [K]        0\n",
       "Process temperature [K]    0\n",
       "Rotational speed [rpm]     0\n",
       "Torque [Nm]                0\n",
       "Tool wear [min]            0\n",
       "Machine failure            0\n",
       "TWF                        0\n",
       "HDF                        0\n",
       "PWF                        0\n",
       "OSF                        0\n",
       "RNF                        0\n",
       "dtype: int64"
      ]
     },
     "execution_count": 3,
     "metadata": {},
     "output_type": "execute_result"
    }
   ],
   "source": [
    "df.isna().sum()"
   ]
  },
  {
   "cell_type": "code",
   "execution_count": 4,
   "id": "706b7de3",
   "metadata": {},
   "outputs": [
    {
     "name": "stdout",
     "output_type": "stream",
     "text": [
      "<class 'pandas.core.frame.DataFrame'>\n",
      "RangeIndex: 136429 entries, 0 to 136428\n",
      "Data columns (total 14 columns):\n",
      " #   Column                   Non-Null Count   Dtype  \n",
      "---  ------                   --------------   -----  \n",
      " 0   id                       136429 non-null  int64  \n",
      " 1   Product ID               136429 non-null  object \n",
      " 2   Type                     136429 non-null  object \n",
      " 3   Air temperature [K]      136429 non-null  float64\n",
      " 4   Process temperature [K]  136429 non-null  float64\n",
      " 5   Rotational speed [rpm]   136429 non-null  int64  \n",
      " 6   Torque [Nm]              136429 non-null  float64\n",
      " 7   Tool wear [min]          136429 non-null  int64  \n",
      " 8   Machine failure          136429 non-null  int64  \n",
      " 9   TWF                      136429 non-null  int64  \n",
      " 10  HDF                      136429 non-null  int64  \n",
      " 11  PWF                      136429 non-null  int64  \n",
      " 12  OSF                      136429 non-null  int64  \n",
      " 13  RNF                      136429 non-null  int64  \n",
      "dtypes: float64(3), int64(9), object(2)\n",
      "memory usage: 14.6+ MB\n"
     ]
    }
   ],
   "source": [
    "df.info()"
   ]
  },
  {
   "cell_type": "code",
   "execution_count": 5,
   "id": "4c67ec60",
   "metadata": {},
   "outputs": [
    {
     "data": {
      "text/html": [
       "<div>\n",
       "<style scoped>\n",
       "    .dataframe tbody tr th:only-of-type {\n",
       "        vertical-align: middle;\n",
       "    }\n",
       "\n",
       "    .dataframe tbody tr th {\n",
       "        vertical-align: top;\n",
       "    }\n",
       "\n",
       "    .dataframe thead th {\n",
       "        text-align: right;\n",
       "    }\n",
       "</style>\n",
       "<table border=\"1\" class=\"dataframe\">\n",
       "  <thead>\n",
       "    <tr style=\"text-align: right;\">\n",
       "      <th></th>\n",
       "      <th>id</th>\n",
       "      <th>Air temperature [K]</th>\n",
       "      <th>Process temperature [K]</th>\n",
       "      <th>Rotational speed [rpm]</th>\n",
       "      <th>Torque [Nm]</th>\n",
       "      <th>Tool wear [min]</th>\n",
       "      <th>Machine failure</th>\n",
       "      <th>TWF</th>\n",
       "      <th>HDF</th>\n",
       "      <th>PWF</th>\n",
       "      <th>OSF</th>\n",
       "      <th>RNF</th>\n",
       "    </tr>\n",
       "  </thead>\n",
       "  <tbody>\n",
       "    <tr>\n",
       "      <th>count</th>\n",
       "      <td>136429.000000</td>\n",
       "      <td>136429.000000</td>\n",
       "      <td>136429.000000</td>\n",
       "      <td>136429.000000</td>\n",
       "      <td>136429.000000</td>\n",
       "      <td>136429.000000</td>\n",
       "      <td>136429.000000</td>\n",
       "      <td>136429.000000</td>\n",
       "      <td>136429.000000</td>\n",
       "      <td>136429.000000</td>\n",
       "      <td>136429.000000</td>\n",
       "      <td>136429.000000</td>\n",
       "    </tr>\n",
       "    <tr>\n",
       "      <th>mean</th>\n",
       "      <td>68214.000000</td>\n",
       "      <td>299.862776</td>\n",
       "      <td>309.941070</td>\n",
       "      <td>1520.331110</td>\n",
       "      <td>40.348643</td>\n",
       "      <td>104.408901</td>\n",
       "      <td>0.015744</td>\n",
       "      <td>0.001554</td>\n",
       "      <td>0.005160</td>\n",
       "      <td>0.002397</td>\n",
       "      <td>0.003958</td>\n",
       "      <td>0.002258</td>\n",
       "    </tr>\n",
       "    <tr>\n",
       "      <th>std</th>\n",
       "      <td>39383.804275</td>\n",
       "      <td>1.862247</td>\n",
       "      <td>1.385173</td>\n",
       "      <td>138.736632</td>\n",
       "      <td>8.502229</td>\n",
       "      <td>63.965040</td>\n",
       "      <td>0.124486</td>\n",
       "      <td>0.039389</td>\n",
       "      <td>0.071649</td>\n",
       "      <td>0.048899</td>\n",
       "      <td>0.062789</td>\n",
       "      <td>0.047461</td>\n",
       "    </tr>\n",
       "    <tr>\n",
       "      <th>min</th>\n",
       "      <td>0.000000</td>\n",
       "      <td>295.300000</td>\n",
       "      <td>305.800000</td>\n",
       "      <td>1181.000000</td>\n",
       "      <td>3.800000</td>\n",
       "      <td>0.000000</td>\n",
       "      <td>0.000000</td>\n",
       "      <td>0.000000</td>\n",
       "      <td>0.000000</td>\n",
       "      <td>0.000000</td>\n",
       "      <td>0.000000</td>\n",
       "      <td>0.000000</td>\n",
       "    </tr>\n",
       "    <tr>\n",
       "      <th>25%</th>\n",
       "      <td>34107.000000</td>\n",
       "      <td>298.300000</td>\n",
       "      <td>308.700000</td>\n",
       "      <td>1432.000000</td>\n",
       "      <td>34.600000</td>\n",
       "      <td>48.000000</td>\n",
       "      <td>0.000000</td>\n",
       "      <td>0.000000</td>\n",
       "      <td>0.000000</td>\n",
       "      <td>0.000000</td>\n",
       "      <td>0.000000</td>\n",
       "      <td>0.000000</td>\n",
       "    </tr>\n",
       "    <tr>\n",
       "      <th>50%</th>\n",
       "      <td>68214.000000</td>\n",
       "      <td>300.000000</td>\n",
       "      <td>310.000000</td>\n",
       "      <td>1493.000000</td>\n",
       "      <td>40.400000</td>\n",
       "      <td>106.000000</td>\n",
       "      <td>0.000000</td>\n",
       "      <td>0.000000</td>\n",
       "      <td>0.000000</td>\n",
       "      <td>0.000000</td>\n",
       "      <td>0.000000</td>\n",
       "      <td>0.000000</td>\n",
       "    </tr>\n",
       "    <tr>\n",
       "      <th>75%</th>\n",
       "      <td>102321.000000</td>\n",
       "      <td>301.200000</td>\n",
       "      <td>310.900000</td>\n",
       "      <td>1580.000000</td>\n",
       "      <td>46.100000</td>\n",
       "      <td>159.000000</td>\n",
       "      <td>0.000000</td>\n",
       "      <td>0.000000</td>\n",
       "      <td>0.000000</td>\n",
       "      <td>0.000000</td>\n",
       "      <td>0.000000</td>\n",
       "      <td>0.000000</td>\n",
       "    </tr>\n",
       "    <tr>\n",
       "      <th>max</th>\n",
       "      <td>136428.000000</td>\n",
       "      <td>304.400000</td>\n",
       "      <td>313.800000</td>\n",
       "      <td>2886.000000</td>\n",
       "      <td>76.600000</td>\n",
       "      <td>253.000000</td>\n",
       "      <td>1.000000</td>\n",
       "      <td>1.000000</td>\n",
       "      <td>1.000000</td>\n",
       "      <td>1.000000</td>\n",
       "      <td>1.000000</td>\n",
       "      <td>1.000000</td>\n",
       "    </tr>\n",
       "  </tbody>\n",
       "</table>\n",
       "</div>"
      ],
      "text/plain": [
       "                  id  Air temperature [K]  Process temperature [K]  \\\n",
       "count  136429.000000        136429.000000            136429.000000   \n",
       "mean    68214.000000           299.862776               309.941070   \n",
       "std     39383.804275             1.862247                 1.385173   \n",
       "min         0.000000           295.300000               305.800000   \n",
       "25%     34107.000000           298.300000               308.700000   \n",
       "50%     68214.000000           300.000000               310.000000   \n",
       "75%    102321.000000           301.200000               310.900000   \n",
       "max    136428.000000           304.400000               313.800000   \n",
       "\n",
       "       Rotational speed [rpm]    Torque [Nm]  Tool wear [min]  \\\n",
       "count           136429.000000  136429.000000    136429.000000   \n",
       "mean              1520.331110      40.348643       104.408901   \n",
       "std                138.736632       8.502229        63.965040   \n",
       "min               1181.000000       3.800000         0.000000   \n",
       "25%               1432.000000      34.600000        48.000000   \n",
       "50%               1493.000000      40.400000       106.000000   \n",
       "75%               1580.000000      46.100000       159.000000   \n",
       "max               2886.000000      76.600000       253.000000   \n",
       "\n",
       "       Machine failure            TWF            HDF            PWF  \\\n",
       "count    136429.000000  136429.000000  136429.000000  136429.000000   \n",
       "mean          0.015744       0.001554       0.005160       0.002397   \n",
       "std           0.124486       0.039389       0.071649       0.048899   \n",
       "min           0.000000       0.000000       0.000000       0.000000   \n",
       "25%           0.000000       0.000000       0.000000       0.000000   \n",
       "50%           0.000000       0.000000       0.000000       0.000000   \n",
       "75%           0.000000       0.000000       0.000000       0.000000   \n",
       "max           1.000000       1.000000       1.000000       1.000000   \n",
       "\n",
       "                 OSF            RNF  \n",
       "count  136429.000000  136429.000000  \n",
       "mean        0.003958       0.002258  \n",
       "std         0.062789       0.047461  \n",
       "min         0.000000       0.000000  \n",
       "25%         0.000000       0.000000  \n",
       "50%         0.000000       0.000000  \n",
       "75%         0.000000       0.000000  \n",
       "max         1.000000       1.000000  "
      ]
     },
     "execution_count": 5,
     "metadata": {},
     "output_type": "execute_result"
    }
   ],
   "source": [
    "df.describe()"
   ]
  },
  {
   "cell_type": "code",
   "execution_count": 6,
   "id": "37ec2f7d",
   "metadata": {},
   "outputs": [
    {
     "data": {
      "text/html": [
       "<div>\n",
       "<style scoped>\n",
       "    .dataframe tbody tr th:only-of-type {\n",
       "        vertical-align: middle;\n",
       "    }\n",
       "\n",
       "    .dataframe tbody tr th {\n",
       "        vertical-align: top;\n",
       "    }\n",
       "\n",
       "    .dataframe thead th {\n",
       "        text-align: right;\n",
       "    }\n",
       "</style>\n",
       "<table border=\"1\" class=\"dataframe\">\n",
       "  <thead>\n",
       "    <tr style=\"text-align: right;\">\n",
       "      <th></th>\n",
       "      <th>id</th>\n",
       "      <th>Product ID</th>\n",
       "      <th>Type</th>\n",
       "      <th>Air temperature [K]</th>\n",
       "      <th>Process temperature [K]</th>\n",
       "      <th>Rotational speed [rpm]</th>\n",
       "      <th>Torque [Nm]</th>\n",
       "      <th>Tool wear [min]</th>\n",
       "      <th>Machine failure</th>\n",
       "      <th>TWF</th>\n",
       "      <th>HDF</th>\n",
       "      <th>PWF</th>\n",
       "      <th>OSF</th>\n",
       "      <th>RNF</th>\n",
       "    </tr>\n",
       "  </thead>\n",
       "  <tbody>\n",
       "    <tr>\n",
       "      <th>0</th>\n",
       "      <td>0</td>\n",
       "      <td>L50096</td>\n",
       "      <td>L</td>\n",
       "      <td>300.6</td>\n",
       "      <td>309.6</td>\n",
       "      <td>1596</td>\n",
       "      <td>36.1</td>\n",
       "      <td>140</td>\n",
       "      <td>0</td>\n",
       "      <td>0</td>\n",
       "      <td>0</td>\n",
       "      <td>0</td>\n",
       "      <td>0</td>\n",
       "      <td>0</td>\n",
       "    </tr>\n",
       "    <tr>\n",
       "      <th>1</th>\n",
       "      <td>1</td>\n",
       "      <td>M20343</td>\n",
       "      <td>M</td>\n",
       "      <td>302.6</td>\n",
       "      <td>312.1</td>\n",
       "      <td>1759</td>\n",
       "      <td>29.1</td>\n",
       "      <td>200</td>\n",
       "      <td>0</td>\n",
       "      <td>0</td>\n",
       "      <td>0</td>\n",
       "      <td>0</td>\n",
       "      <td>0</td>\n",
       "      <td>0</td>\n",
       "    </tr>\n",
       "    <tr>\n",
       "      <th>2</th>\n",
       "      <td>2</td>\n",
       "      <td>L49454</td>\n",
       "      <td>L</td>\n",
       "      <td>299.3</td>\n",
       "      <td>308.5</td>\n",
       "      <td>1805</td>\n",
       "      <td>26.5</td>\n",
       "      <td>25</td>\n",
       "      <td>0</td>\n",
       "      <td>0</td>\n",
       "      <td>0</td>\n",
       "      <td>0</td>\n",
       "      <td>0</td>\n",
       "      <td>0</td>\n",
       "    </tr>\n",
       "    <tr>\n",
       "      <th>3</th>\n",
       "      <td>3</td>\n",
       "      <td>L53355</td>\n",
       "      <td>L</td>\n",
       "      <td>301.0</td>\n",
       "      <td>310.9</td>\n",
       "      <td>1524</td>\n",
       "      <td>44.3</td>\n",
       "      <td>197</td>\n",
       "      <td>0</td>\n",
       "      <td>0</td>\n",
       "      <td>0</td>\n",
       "      <td>0</td>\n",
       "      <td>0</td>\n",
       "      <td>0</td>\n",
       "    </tr>\n",
       "    <tr>\n",
       "      <th>4</th>\n",
       "      <td>4</td>\n",
       "      <td>M24050</td>\n",
       "      <td>M</td>\n",
       "      <td>298.0</td>\n",
       "      <td>309.0</td>\n",
       "      <td>1641</td>\n",
       "      <td>35.4</td>\n",
       "      <td>34</td>\n",
       "      <td>0</td>\n",
       "      <td>0</td>\n",
       "      <td>0</td>\n",
       "      <td>0</td>\n",
       "      <td>0</td>\n",
       "      <td>0</td>\n",
       "    </tr>\n",
       "  </tbody>\n",
       "</table>\n",
       "</div>"
      ],
      "text/plain": [
       "   id Product ID Type  Air temperature [K]  Process temperature [K]  \\\n",
       "0   0     L50096    L                300.6                    309.6   \n",
       "1   1     M20343    M                302.6                    312.1   \n",
       "2   2     L49454    L                299.3                    308.5   \n",
       "3   3     L53355    L                301.0                    310.9   \n",
       "4   4     M24050    M                298.0                    309.0   \n",
       "\n",
       "   Rotational speed [rpm]  Torque [Nm]  Tool wear [min]  Machine failure  TWF  \\\n",
       "0                    1596         36.1              140                0    0   \n",
       "1                    1759         29.1              200                0    0   \n",
       "2                    1805         26.5               25                0    0   \n",
       "3                    1524         44.3              197                0    0   \n",
       "4                    1641         35.4               34                0    0   \n",
       "\n",
       "   HDF  PWF  OSF  RNF  \n",
       "0    0    0    0    0  \n",
       "1    0    0    0    0  \n",
       "2    0    0    0    0  \n",
       "3    0    0    0    0  \n",
       "4    0    0    0    0  "
      ]
     },
     "execution_count": 6,
     "metadata": {},
     "output_type": "execute_result"
    }
   ],
   "source": [
    "df.head(n=5)"
   ]
  },
  {
   "cell_type": "code",
   "execution_count": 7,
   "id": "eb5195b5",
   "metadata": {},
   "outputs": [
    {
     "name": "stderr",
     "output_type": "stream",
     "text": [
      "C:\\Users\\abdir\\AppData\\Local\\Temp\\ipykernel_7600\\2832060108.py:3: FutureWarning: In a future version of pandas, a length 1 tuple will be returned when iterating over a groupby with a grouper equal to a list of length 1. Don't supply a list with a single grouper to avoid this warning.\n",
      "  keys = [Type for Type, df in df.groupby(['Type'])]\n",
      "C:\\Users\\abdir\\AppData\\Local\\Temp\\ipykernel_7600\\2832060108.py:5: FutureWarning: The default value of numeric_only in DataFrameGroupBy.sum is deprecated. In a future version, numeric_only will default to False. Either specify numeric_only or select only columns which should be valid for the function.\n",
      "  plt.bar(keys,df.groupby(['Type']).sum()['Machine failure'])\n"
     ]
    },
    {
     "data": {
      "image/png": "[encoded data removed]",
      "text/plain": [
       "<Figure size 640x480 with 1 Axes>"
      ]
     },
     "metadata": {},
     "output_type": "display_data"
    }
   ],
   "source": [
    "import matplotlib.pyplot as plt\n",
    "\n",
    "keys = [Type for Type, df in df.groupby(['Type'])]\n",
    "\n",
    "plt.bar(keys,df.groupby(['Type']).sum()['Machine failure'])\n",
    "plt.ylabel('Total Machine failure')\n",
    "plt.xlabel('Type')\n",
    "plt.xticks(keys, rotation='horizontal', size=8)\n",
    "plt.show()"
   ]
  },
  {
   "cell_type": "code",
   "execution_count": 8,
   "id": "821aa21e",
   "metadata": {},
   "outputs": [],
   "source": [
    "df.drop(['id'], axis=1, inplace=True)"
   ]
  },
  {
   "cell_type": "code",
   "execution_count": 9,
   "id": "5adcc463",
   "metadata": {},
   "outputs": [],
   "source": [
    "df.drop(['Product ID'], axis=1, inplace=True)"
   ]
  },
  {
   "cell_type": "code",
   "execution_count": 10,
   "id": "83e8b502",
   "metadata": {},
   "outputs": [
    {
     "name": "stdout",
     "output_type": "stream",
     "text": [
      "<class 'pandas.core.frame.DataFrame'>\n",
      "RangeIndex: 136429 entries, 0 to 136428\n",
      "Data columns (total 12 columns):\n",
      " #   Column                   Non-Null Count   Dtype  \n",
      "---  ------                   --------------   -----  \n",
      " 0   Type                     136429 non-null  object \n",
      " 1   Air temperature [K]      136429 non-null  float64\n",
      " 2   Process temperature [K]  136429 non-null  float64\n",
      " 3   Rotational speed [rpm]   136429 non-null  int64  \n",
      " 4   Torque [Nm]              136429 non-null  float64\n",
      " 5   Tool wear [min]          136429 non-null  int64  \n",
      " 6   Machine failure          136429 non-null  int64  \n",
      " 7   TWF                      136429 non-null  int64  \n",
      " 8   HDF                      136429 non-null  int64  \n",
      " 9   PWF                      136429 non-null  int64  \n",
      " 10  OSF                      136429 non-null  int64  \n",
      " 11  RNF                      136429 non-null  int64  \n",
      "dtypes: float64(3), int64(8), object(1)\n",
      "memory usage: 12.5+ MB\n"
     ]
    }
   ],
   "source": [
    "df.info()"
   ]
  },
  {
   "cell_type": "code",
   "execution_count": 11,
   "id": "3e4fe4f7",
   "metadata": {},
   "outputs": [],
   "source": [
    "x = df.iloc[:, [0,1,2,3,4,5,7, 8, 9, 10, 11]].values"
   ]
  },
  {
   "cell_type": "code",
   "execution_count": 12,
   "id": "9e439178",
   "metadata": {},
   "outputs": [
    {
     "data": {
      "text/plain": [
       "array([['L', 300.6, 309.6, ..., 0, 0, 0],\n",
       "       ['M', 302.6, 312.1, ..., 0, 0, 0],\n",
       "       ['L', 299.3, 308.5, ..., 0, 0, 0],\n",
       "       ...,\n",
       "       ['L', 300.5, 311.8, ..., 0, 0, 0],\n",
       "       ['L', 301.7, 310.9, ..., 0, 0, 0],\n",
       "       ['L', 296.9, 308.1, ..., 0, 0, 0]], dtype=object)"
      ]
     },
     "execution_count": 12,
     "metadata": {},
     "output_type": "execute_result"
    }
   ],
   "source": [
    "x"
   ]
  },
  {
   "cell_type": "code",
   "execution_count": 13,
   "id": "2fcdc4f1",
   "metadata": {},
   "outputs": [],
   "source": [
    "y = df.iloc[:, 6].values"
   ]
  },
  {
   "cell_type": "code",
   "execution_count": 14,
   "id": "434364e4",
   "metadata": {},
   "outputs": [],
   "source": [
    "from sklearn.compose import ColumnTransformer\n",
    "from sklearn.preprocessing import OneHotEncoder\n",
    "ct = ColumnTransformer(transformers=[('encoder', OneHotEncoder(), [0])], remainder='passthrough')\n",
    "x = np.array(ct.fit_transform(x))"
   ]
  },
  {
   "cell_type": "code",
   "execution_count": 15,
   "id": "cc903733",
   "metadata": {},
   "outputs": [],
   "source": [
    "from sklearn.model_selection import train_test_split\n",
    "x_train, x_test, y_train, y_test = train_test_split(x, y, test_size = 0.2, random_state = 1)"
   ]
  },
  {
   "cell_type": "code",
   "execution_count": 16,
   "id": "a03ef98d",
   "metadata": {},
   "outputs": [],
   "source": [
    "from sklearn.preprocessing import StandardScaler\n",
    "sc = StandardScaler()\n",
    "x_train = sc.fit_transform(x_train)\n",
    "x_test = sc.transform(x_test)"
   ]
  },
  {
   "cell_type": "code",
   "execution_count": 17,
   "id": "cd211dc0",
   "metadata": {},
   "outputs": [
    {
     "data": {
      "text/html": [
       "<style>#sk-container-id-1 {color: black;background-color: white;}#sk-container-id-1 pre{padding: 0;}#sk-container-id-1 div.sk-toggleable {background-color: white;}#sk-container-id-1 label.sk-toggleable__label {cursor: pointer;display: block;width: 100%;margin-bottom: 0;padding: 0.3em;box-sizing: border-box;text-align: center;}#sk-container-id-1 label.sk-toggleable__label-arrow:before {content: \"▸\";float: left;margin-right: 0.25em;color: #696969;}#sk-container-id-1 label.sk-toggleable__label-arrow:hover:before {color: black;}#sk-container-id-1 div.sk-estimator:hover label.sk-toggleable__label-arrow:before {color: black;}#sk-container-id-1 div.sk-toggleable__content {max-height: 0;max-width: 0;overflow: hidden;text-align: left;background-color: #f0f8ff;}#sk-container-id-1 div.sk-toggleable__content pre {margin: 0.2em;color: black;border-radius: 0.25em;background-color: #f0f8ff;}#sk-container-id-1 input.sk-toggleable__control:checked~div.sk-toggleable__content {max-height: 200px;max-width: 100%;overflow: auto;}#sk-container-id-1 input.sk-toggleable__control:checked~label.sk-toggleable__label-arrow:before {content: \"▾\";}#sk-container-id-1 div.sk-estimator input.sk-toggleable__control:checked~label.sk-toggleable__label {background-color: #d4ebff;}#sk-container-id-1 div.sk-label input.sk-toggleable__control:checked~label.sk-toggleable__label {background-color: #d4ebff;}#sk-container-id-1 input.sk-hidden--visually {border: 0;clip: rect(1px 1px 1px 1px);clip: rect(1px, 1px, 1px, 1px);height: 1px;margin: -1px;overflow: hidden;padding: 0;position: absolute;width: 1px;}#sk-container-id-1 div.sk-estimator {font-family: monospace;background-color: #f0f8ff;border: 1px dotted black;border-radius: 0.25em;box-sizing: border-box;margin-bottom: 0.5em;}#sk-container-id-1 div.sk-estimator:hover {background-color: #d4ebff;}#sk-container-id-1 div.sk-parallel-item::after {content: \"\";width: 100%;border-bottom: 1px solid gray;flex-grow: 1;}#sk-container-id-1 div.sk-label:hover label.sk-toggleable__label {background-color: #d4ebff;}#sk-container-id-1 div.sk-serial::before {content: \"\";position: absolute;border-left: 1px solid gray;box-sizing: border-box;top: 0;bottom: 0;left: 50%;z-index: 0;}#sk-container-id-1 div.sk-serial {display: flex;flex-direction: column;align-items: center;background-color: white;padding-right: 0.2em;padding-left: 0.2em;position: relative;}#sk-container-id-1 div.sk-item {position: relative;z-index: 1;}#sk-container-id-1 div.sk-parallel {display: flex;align-items: stretch;justify-content: center;background-color: white;position: relative;}#sk-container-id-1 div.sk-item::before, #sk-container-id-1 div.sk-parallel-item::before {content: \"\";position: absolute;border-left: 1px solid gray;box-sizing: border-box;top: 0;bottom: 0;left: 50%;z-index: -1;}#sk-container-id-1 div.sk-parallel-item {display: flex;flex-direction: column;z-index: 1;position: relative;background-color: white;}#sk-container-id-1 div.sk-parallel-item:first-child::after {align-self: flex-end;width: 50%;}#sk-container-id-1 div.sk-parallel-item:last-child::after {align-self: flex-start;width: 50%;}#sk-container-id-1 div.sk-parallel-item:only-child::after {width: 0;}#sk-container-id-1 div.sk-dashed-wrapped {border: 1px dashed gray;margin: 0 0.4em 0.5em 0.4em;box-sizing: border-box;padding-bottom: 0.4em;background-color: white;}#sk-container-id-1 div.sk-label label {font-family: monospace;font-weight: bold;display: inline-block;line-height: 1.2em;}#sk-container-id-1 div.sk-label-container {text-align: center;}#sk-container-id-1 div.sk-container {/* jupyter's `normalize.less` sets `[hidden] { display: none; }` but bootstrap.min.css set `[hidden] { display: none !important; }` so we also need the `!important` here to be able to override the default hidden behavior on the sphinx rendered scikit-learn.org. See: https://github.com/scikit-learn/scikit-learn/issues/21755 */display: inline-block !important;position: relative;}#sk-container-id-1 div.sk-text-repr-fallback {display: none;}</style><div id=\"sk-container-id-1\" class=\"sk-top-container\"><div class=\"sk-text-repr-fallback\"><pre>XGBClassifier(base_score=None, booster=None, callbacks=None,\n",
       "              colsample_bylevel=None, colsample_bynode=None,\n",
       "              colsample_bytree=None, early_stopping_rounds=None,\n",
       "              enable_categorical=False, eval_metric=None, feature_types=None,\n",
       "              gamma=None, gpu_id=None, grow_policy=None, importance_type=None,\n",
       "              interaction_constraints=None, learning_rate=None, max_bin=None,\n",
       "              max_cat_threshold=None, max_cat_to_onehot=None,\n",
       "              max_delta_step=None, max_depth=None, max_leaves=None,\n",
       "              min_child_weight=None, missing=nan, monotone_constraints=None,\n",
       "              n_estimators=100, n_jobs=None, num_parallel_tree=None,\n",
       "              predictor=None, random_state=None, ...)</pre><b>In a Jupyter environment, please rerun this cell to show the HTML representation or trust the notebook. <br />On GitHub, the HTML representation is unable to render, please try loading this page with nbviewer.org.</b></div><div class=\"sk-container\" hidden><div class=\"sk-item\"><div class=\"sk-estimator sk-toggleable\"><input class=\"sk-toggleable__control sk-hidden--visually\" id=\"sk-estimator-id-1\" type=\"checkbox\" checked><label for=\"sk-estimator-id-1\" class=\"sk-toggleable__label sk-toggleable__label-arrow\">XGBClassifier</label><div class=\"sk-toggleable__content\"><pre>XGBClassifier(base_score=None, booster=None, callbacks=None,\n",
       "              colsample_bylevel=None, colsample_bynode=None,\n",
       "              colsample_bytree=None, early_stopping_rounds=None,\n",
       "              enable_categorical=False, eval_metric=None, feature_types=None,\n",
       "              gamma=None, gpu_id=None, grow_policy=None, importance_type=None,\n",
       "              interaction_constraints=None, learning_rate=None, max_bin=None,\n",
       "              max_cat_threshold=None, max_cat_to_onehot=None,\n",
       "              max_delta_step=None, max_depth=None, max_leaves=None,\n",
       "              min_child_weight=None, missing=nan, monotone_constraints=None,\n",
       "              n_estimators=100, n_jobs=None, num_parallel_tree=None,\n",
       "              predictor=None, random_state=None, ...)</pre></div></div></div></div></div>"
      ],
      "text/plain": [
       "XGBClassifier(base_score=None, booster=None, callbacks=None,\n",
       "              colsample_bylevel=None, colsample_bynode=None,\n",
       "              colsample_bytree=None, early_stopping_rounds=None,\n",
       "              enable_categorical=False, eval_metric=None, feature_types=None,\n",
       "              gamma=None, gpu_id=None, grow_policy=None, importance_type=None,\n",
       "              interaction_constraints=None, learning_rate=None, max_bin=None,\n",
       "              max_cat_threshold=None, max_cat_to_onehot=None,\n",
       "              max_delta_step=None, max_depth=None, max_leaves=None,\n",
       "              min_child_weight=None, missing=nan, monotone_constraints=None,\n",
       "              n_estimators=100, n_jobs=None, num_parallel_tree=None,\n",
       "              predictor=None, random_state=None, ...)"
      ]
     },
     "execution_count": 17,
     "metadata": {},
     "output_type": "execute_result"
    }
   ],
   "source": [
    "from xgboost import XGBClassifier\n",
    "classifier = XGBClassifier()\n",
    "classifier.fit(x_train, y_train)"
   ]
  },
  {
   "cell_type": "code",
   "execution_count": 18,
   "id": "7161bce8",
   "metadata": {},
   "outputs": [],
   "source": [
    "y_pred = classifier.predict(x_test)"
   ]
  },
  {
   "cell_type": "code",
   "execution_count": 19,
   "id": "482af6a1",
   "metadata": {},
   "outputs": [
    {
     "name": "stdout",
     "output_type": "stream",
     "text": [
      "[[26840    10]\n",
      " [  101   335]]\n"
     ]
    },
    {
     "data": {
      "text/plain": [
       "0.9959319797698454"
      ]
     },
     "execution_count": 19,
     "metadata": {},
     "output_type": "execute_result"
    }
   ],
   "source": [
    "from sklearn.metrics import confusion_matrix, accuracy_score\n",
    "\n",
    "cm = confusion_matrix(y_test, y_pred)\n",
    "print(cm)\n",
    "accuracy_score(y_test, y_pred)"
   ]
  },
  {
   "cell_type": "code",
   "execution_count": 20,
   "id": "8bfe1bd2",
   "metadata": {},
   "outputs": [],
   "source": [
    "model = tf.keras.models.Sequential()"
   ]
  },
  {
   "cell_type": "code",
   "execution_count": 21,
   "id": "605a31d0",
   "metadata": {},
   "outputs": [],
   "source": [
    "model.add(tf.keras.layers.Dense(units=64, activation=\"relu\"))"
   ]
  },
  {
   "cell_type": "code",
   "execution_count": 22,
   "id": "278e3cb4",
   "metadata": {},
   "outputs": [],
   "source": [
    "model.add(tf.keras.layers.Dense(units=64, activation=\"relu\"))"
   ]
  },
  {
   "cell_type": "code",
   "execution_count": 23,
   "id": "5e36ca14",
   "metadata": {},
   "outputs": [],
   "source": [
    "model.add(tf.keras.layers.Dense(units=64, activation=\"relu\"))"
   ]
  },
  {
   "cell_type": "code",
   "execution_count": 24,
   "id": "736e42e2",
   "metadata": {},
   "outputs": [],
   "source": [
    "model.add(tf.keras.layers.Dense(units=1, activation=\"sigmoid\"))"
   ]
  },
  {
   "cell_type": "code",
   "execution_count": 25,
   "id": "1a48b494",
   "metadata": {},
   "outputs": [],
   "source": [
    "model.compile(optimizer=\"adam\", loss=\"binary_crossentropy\", metrics=['accuracy'])"
   ]
  },
  {
   "cell_type": "code",
   "execution_count": 26,
   "id": "f36cd205",
   "metadata": {},
   "outputs": [],
   "source": [
    "y_train = y_train.reshape(len(y_train), 1)"
   ]
  },
  {
   "cell_type": "code",
   "execution_count": 27,
   "id": "a9d7e020",
   "metadata": {},
   "outputs": [
    {
     "name": "stdout",
     "output_type": "stream",
     "text": [
      "Epoch 1/100\n",
      "3411/3411 [==============================] - 11s 2ms/step - loss: 0.0309 - accuracy: 0.9948\n",
      "Epoch 2/100\n",
      "3411/3411 [==============================] - 7s 2ms/step - loss: 0.0226 - accuracy: 0.9962\n",
      "Epoch 3/100\n",
      "3411/3411 [==============================] - 8s 2ms/step - loss: 0.0221 - accuracy: 0.9962\n",
      "Epoch 4/100\n",
      "3411/3411 [==============================] - 7s 2ms/step - loss: 0.0219 - accuracy: 0.9962\n",
      "Epoch 5/100\n",
      "3411/3411 [==============================] - 8s 2ms/step - loss: 0.0216 - accuracy: 0.9963\n",
      "Epoch 6/100\n",
      "3411/3411 [==============================] - 7s 2ms/step - loss: 0.0215 - accuracy: 0.9962\n",
      "Epoch 7/100\n",
      "3411/3411 [==============================] - 8s 2ms/step - loss: 0.0214 - accuracy: 0.9963\n",
      "Epoch 8/100\n",
      "3411/3411 [==============================] - 7s 2ms/step - loss: 0.0214 - accuracy: 0.9962\n",
      "Epoch 9/100\n",
      "3411/3411 [==============================] - 9s 3ms/step - loss: 0.0213 - accuracy: 0.9962\n",
      "Epoch 10/100\n",
      "3411/3411 [==============================] - 7s 2ms/step - loss: 0.0212 - accuracy: 0.9963\n",
      "Epoch 11/100\n",
      "3411/3411 [==============================] - 8s 2ms/step - loss: 0.0214 - accuracy: 0.9962\n",
      "Epoch 12/100\n",
      "3411/3411 [==============================] - 7s 2ms/step - loss: 0.0210 - accuracy: 0.9963\n",
      "Epoch 13/100\n",
      "3411/3411 [==============================] - 8s 2ms/step - loss: 0.0209 - accuracy: 0.9962\n",
      "Epoch 14/100\n",
      "3411/3411 [==============================] - 7s 2ms/step - loss: 0.0210 - accuracy: 0.9963\n",
      "Epoch 15/100\n",
      "3411/3411 [==============================] - 8s 2ms/step - loss: 0.0207 - accuracy: 0.9962\n",
      "Epoch 16/100\n",
      "3411/3411 [==============================] - 8s 2ms/step - loss: 0.0209 - accuracy: 0.9963\n",
      "Epoch 17/100\n",
      "3411/3411 [==============================] - 10s 3ms/step - loss: 0.0209 - accuracy: 0.9963\n",
      "Epoch 18/100\n",
      "3411/3411 [==============================] - 10s 3ms/step - loss: 0.0208 - accuracy: 0.9962\n",
      "Epoch 19/100\n",
      "3411/3411 [==============================] - 8s 2ms/step - loss: 0.0205 - accuracy: 0.9963\n",
      "Epoch 20/100\n",
      "3411/3411 [==============================] - 7s 2ms/step - loss: 0.0205 - accuracy: 0.9962\n",
      "Epoch 21/100\n",
      "3411/3411 [==============================] - 9s 3ms/step - loss: 0.0205 - accuracy: 0.9962\n",
      "Epoch 22/100\n",
      "3411/3411 [==============================] - 7s 2ms/step - loss: 0.0204 - accuracy: 0.9962\n",
      "Epoch 23/100\n",
      "3411/3411 [==============================] - 9s 3ms/step - loss: 0.0204 - accuracy: 0.9963\n",
      "Epoch 24/100\n",
      "3411/3411 [==============================] - 7s 2ms/step - loss: 0.0202 - accuracy: 0.9963\n",
      "Epoch 25/100\n",
      "3411/3411 [==============================] - 9s 3ms/step - loss: 0.0203 - accuracy: 0.9963\n",
      "Epoch 26/100\n",
      "3411/3411 [==============================] - 7s 2ms/step - loss: 0.0202 - accuracy: 0.9962\n",
      "Epoch 27/100\n",
      "3411/3411 [==============================] - 9s 3ms/step - loss: 0.0201 - accuracy: 0.9962\n",
      "Epoch 28/100\n",
      "3411/3411 [==============================] - 7s 2ms/step - loss: 0.0202 - accuracy: 0.9962\n",
      "Epoch 29/100\n",
      "3411/3411 [==============================] - 9s 3ms/step - loss: 0.0203 - accuracy: 0.9962\n",
      "Epoch 30/100\n",
      "3411/3411 [==============================] - 7s 2ms/step - loss: 0.0199 - accuracy: 0.9962\n",
      "Epoch 31/100\n",
      "3411/3411 [==============================] - 9s 3ms/step - loss: 0.0200 - accuracy: 0.9962\n",
      "Epoch 32/100\n",
      "3411/3411 [==============================] - 8s 2ms/step - loss: 0.0200 - accuracy: 0.9963\n",
      "Epoch 33/100\n",
      "3411/3411 [==============================] - 9s 3ms/step - loss: 0.0200 - accuracy: 0.9963\n",
      "Epoch 34/100\n",
      "3411/3411 [==============================] - 7s 2ms/step - loss: 0.0198 - accuracy: 0.9962\n",
      "Epoch 35/100\n",
      "3411/3411 [==============================] - 10s 3ms/step - loss: 0.0196 - accuracy: 0.9962\n",
      "Epoch 36/100\n",
      "3411/3411 [==============================] - 7s 2ms/step - loss: 0.0198 - accuracy: 0.9962\n",
      "Epoch 37/100\n",
      "3411/3411 [==============================] - 9s 3ms/step - loss: 0.0198 - accuracy: 0.9962\n",
      "Epoch 38/100\n",
      "3411/3411 [==============================] - 7s 2ms/step - loss: 0.0196 - accuracy: 0.9962\n",
      "Epoch 39/100\n",
      "3411/3411 [==============================] - 9s 3ms/step - loss: 0.0197 - accuracy: 0.9963\n",
      "Epoch 40/100\n",
      "3411/3411 [==============================] - 7s 2ms/step - loss: 0.0194 - accuracy: 0.9963\n",
      "Epoch 41/100\n",
      "3411/3411 [==============================] - 9s 3ms/step - loss: 0.0195 - accuracy: 0.9963\n",
      "Epoch 42/100\n",
      "3411/3411 [==============================] - 8s 2ms/step - loss: 0.0195 - accuracy: 0.9962\n",
      "Epoch 43/100\n",
      "3411/3411 [==============================] - 8s 2ms/step - loss: 0.0193 - accuracy: 0.9962\n",
      "Epoch 44/100\n",
      "3411/3411 [==============================] - 7s 2ms/step - loss: 0.0191 - accuracy: 0.9963\n",
      "Epoch 45/100\n",
      "3411/3411 [==============================] - 8s 2ms/step - loss: 0.0194 - accuracy: 0.9962\n",
      "Epoch 46/100\n",
      "3411/3411 [==============================] - 7s 2ms/step - loss: 0.0191 - accuracy: 0.9964\n",
      "Epoch 47/100\n",
      "3411/3411 [==============================] - 9s 3ms/step - loss: 0.0190 - accuracy: 0.9962\n",
      "Epoch 48/100\n",
      "3411/3411 [==============================] - 7s 2ms/step - loss: 0.0190 - accuracy: 0.9963\n",
      "Epoch 49/100\n",
      "3411/3411 [==============================] - 9s 3ms/step - loss: 0.0190 - accuracy: 0.9963\n",
      "Epoch 50/100\n",
      "3411/3411 [==============================] - 8s 2ms/step - loss: 0.0189 - accuracy: 0.9963\n",
      "Epoch 51/100\n",
      "3411/3411 [==============================] - 9s 3ms/step - loss: 0.0189 - accuracy: 0.9964\n",
      "Epoch 52/100\n",
      "3411/3411 [==============================] - 8s 2ms/step - loss: 0.0188 - accuracy: 0.9963\n",
      "Epoch 53/100\n",
      "3411/3411 [==============================] - 8s 2ms/step - loss: 0.0186 - accuracy: 0.9963\n",
      "Epoch 54/100\n",
      "3411/3411 [==============================] - 7s 2ms/step - loss: 0.0187 - accuracy: 0.9963\n",
      "Epoch 55/100\n",
      "3411/3411 [==============================] - 9s 3ms/step - loss: 0.0186 - accuracy: 0.9964\n",
      "Epoch 56/100\n",
      "3411/3411 [==============================] - 8s 2ms/step - loss: 0.0185 - accuracy: 0.9963\n",
      "Epoch 57/100\n",
      "3411/3411 [==============================] - 8s 2ms/step - loss: 0.0185 - accuracy: 0.9964\n",
      "Epoch 58/100\n",
      "3411/3411 [==============================] - 7s 2ms/step - loss: 0.0187 - accuracy: 0.9964\n",
      "Epoch 59/100\n",
      "3411/3411 [==============================] - 8s 2ms/step - loss: 0.0185 - accuracy: 0.9964\n",
      "Epoch 60/100\n",
      "3411/3411 [==============================] - 7s 2ms/step - loss: 0.0185 - accuracy: 0.9963\n",
      "Epoch 61/100\n",
      "3411/3411 [==============================] - 8s 2ms/step - loss: 0.0182 - accuracy: 0.9964\n",
      "Epoch 62/100\n",
      "3411/3411 [==============================] - 7s 2ms/step - loss: 0.0185 - accuracy: 0.9963\n",
      "Epoch 63/100\n",
      "3411/3411 [==============================] - 9s 3ms/step - loss: 0.0181 - accuracy: 0.9964\n",
      "Epoch 64/100\n",
      "3411/3411 [==============================] - 8s 2ms/step - loss: 0.0184 - accuracy: 0.9963\n",
      "Epoch 65/100\n",
      "3411/3411 [==============================] - 8s 2ms/step - loss: 0.0182 - accuracy: 0.9964\n",
      "Epoch 66/100\n",
      "3411/3411 [==============================] - 8s 2ms/step - loss: 0.0182 - accuracy: 0.9964\n",
      "Epoch 67/100\n",
      "3411/3411 [==============================] - 8s 2ms/step - loss: 0.0184 - accuracy: 0.9963\n",
      "Epoch 68/100\n",
      "3411/3411 [==============================] - 8s 2ms/step - loss: 0.0179 - accuracy: 0.9964\n",
      "Epoch 69/100\n",
      "3411/3411 [==============================] - 9s 3ms/step - loss: 0.0179 - accuracy: 0.9964\n",
      "Epoch 70/100\n",
      "3411/3411 [==============================] - 7s 2ms/step - loss: 0.0180 - accuracy: 0.9964\n",
      "Epoch 71/100\n",
      "3411/3411 [==============================] - 8s 2ms/step - loss: 0.0178 - accuracy: 0.9964\n",
      "Epoch 72/100\n",
      "3411/3411 [==============================] - 7s 2ms/step - loss: 0.0179 - accuracy: 0.9964\n",
      "Epoch 73/100\n",
      "3411/3411 [==============================] - 9s 3ms/step - loss: 0.0181 - accuracy: 0.9963\n",
      "Epoch 74/100\n",
      "3411/3411 [==============================] - 8s 2ms/step - loss: 0.0177 - accuracy: 0.9964\n",
      "Epoch 75/100\n",
      "3411/3411 [==============================] - 8s 2ms/step - loss: 0.0178 - accuracy: 0.9964\n",
      "Epoch 76/100\n",
      "3411/3411 [==============================] - 8s 2ms/step - loss: 0.0177 - accuracy: 0.9964\n",
      "Epoch 77/100\n",
      "3411/3411 [==============================] - 8s 2ms/step - loss: 0.0177 - accuracy: 0.9965\n",
      "Epoch 78/100\n",
      "3411/3411 [==============================] - 8s 2ms/step - loss: 0.0180 - accuracy: 0.9964\n",
      "Epoch 79/100\n",
      "3411/3411 [==============================] - 8s 2ms/step - loss: 0.0176 - accuracy: 0.9965\n",
      "Epoch 80/100\n",
      "3411/3411 [==============================] - 8s 2ms/step - loss: 0.0175 - accuracy: 0.9964\n",
      "Epoch 81/100\n",
      "3411/3411 [==============================] - 8s 2ms/step - loss: 0.0177 - accuracy: 0.9964\n",
      "Epoch 82/100\n",
      "3411/3411 [==============================] - 8s 2ms/step - loss: 0.0173 - accuracy: 0.9964\n",
      "Epoch 83/100\n",
      "3411/3411 [==============================] - 9s 3ms/step - loss: 0.0175 - accuracy: 0.9964\n",
      "Epoch 84/100\n",
      "3411/3411 [==============================] - 8s 2ms/step - loss: 0.0175 - accuracy: 0.9965\n",
      "Epoch 85/100\n",
      "3411/3411 [==============================] - 8s 2ms/step - loss: 0.0176 - accuracy: 0.9965\n",
      "Epoch 86/100\n",
      "3411/3411 [==============================] - 8s 2ms/step - loss: 0.0174 - accuracy: 0.9965\n",
      "Epoch 87/100\n",
      "3411/3411 [==============================] - 8s 2ms/step - loss: 0.0173 - accuracy: 0.9964\n",
      "Epoch 88/100\n",
      "3411/3411 [==============================] - 8s 2ms/step - loss: 0.0172 - accuracy: 0.9965\n",
      "Epoch 89/100\n",
      "3411/3411 [==============================] - 8s 2ms/step - loss: 0.0174 - accuracy: 0.9965\n",
      "Epoch 90/100\n",
      "3411/3411 [==============================] - 8s 2ms/step - loss: 0.0172 - accuracy: 0.9964\n",
      "Epoch 91/100\n",
      "3411/3411 [==============================] - 8s 2ms/step - loss: 0.0170 - accuracy: 0.9965\n",
      "Epoch 92/100\n",
      "3411/3411 [==============================] - 7s 2ms/step - loss: 0.0170 - accuracy: 0.9964\n",
      "Epoch 93/100\n",
      "3411/3411 [==============================] - 7s 2ms/step - loss: 0.0185 - accuracy: 0.9963\n",
      "Epoch 94/100\n",
      "3411/3411 [==============================] - 7s 2ms/step - loss: 0.0167 - accuracy: 0.9965\n",
      "Epoch 95/100\n",
      "3411/3411 [==============================] - 8s 2ms/step - loss: 0.0169 - accuracy: 0.9965\n",
      "Epoch 96/100\n",
      "3411/3411 [==============================] - 6s 2ms/step - loss: 0.0172 - accuracy: 0.9965\n",
      "Epoch 97/100\n",
      "3411/3411 [==============================] - 8s 2ms/step - loss: 0.0167 - accuracy: 0.9965\n",
      "Epoch 98/100\n",
      "3411/3411 [==============================] - 7s 2ms/step - loss: 0.0171 - accuracy: 0.9965\n",
      "Epoch 99/100\n",
      "3411/3411 [==============================] - 7s 2ms/step - loss: 0.0168 - accuracy: 0.9965\n",
      "Epoch 100/100\n",
      "3411/3411 [==============================] - 7s 2ms/step - loss: 0.0174 - accuracy: 0.9964\n"
     ]
    },
    {
     "data": {
      "text/plain": [
       "<keras.callbacks.History at 0x2435260f820>"
      ]
     },
     "execution_count": 27,
     "metadata": {},
     "output_type": "execute_result"
    }
   ],
   "source": [
    "model.fit(x_train, y_train, batch_size = 32, epochs = 100)"
   ]
  },
  {
   "cell_type": "code",
   "execution_count": 28,
   "id": "7a099f57",
   "metadata": {},
   "outputs": [
    {
     "name": "stdout",
     "output_type": "stream",
     "text": [
      "853/853 [==============================] - 1s 1ms/step\n"
     ]
    }
   ],
   "source": [
    "test_predictions = model.predict(x_test)"
   ]
  },
  {
   "cell_type": "code",
   "execution_count": 35,
   "id": "dfccb950",
   "metadata": {},
   "outputs": [],
   "source": [
    "y_pred = y_pred.reshape(len(y_pred))\n",
    "test_predictions = test_predictions.reshape(len(test_predictions))"
   ]
  },
  {
   "cell_type": "code",
   "execution_count": 30,
   "id": "3b7c49f9",
   "metadata": {},
   "outputs": [],
   "source": [
    "y_test = y_test.reshape(len(y_test))"
   ]
  },
  {
   "cell_type": "code",
   "execution_count": 31,
   "id": "c9b126c3",
   "metadata": {},
   "outputs": [
    {
     "data": {
      "text/plain": [
       "array([0, 0, 0, ..., 0, 0, 0], dtype=int64)"
      ]
     },
     "execution_count": 31,
     "metadata": {},
     "output_type": "execute_result"
    }
   ],
   "source": [
    "y_test"
   ]
  },
  {
   "cell_type": "code",
   "execution_count": 32,
   "id": "70b15ad0",
   "metadata": {},
   "outputs": [
    {
     "data": {
      "text/html": [
       "<div>\n",
       "<style scoped>\n",
       "    .dataframe tbody tr th:only-of-type {\n",
       "        vertical-align: middle;\n",
       "    }\n",
       "\n",
       "    .dataframe tbody tr th {\n",
       "        vertical-align: top;\n",
       "    }\n",
       "\n",
       "    .dataframe thead th {\n",
       "        text-align: right;\n",
       "    }\n",
       "</style>\n",
       "<table border=\"1\" class=\"dataframe\">\n",
       "  <thead>\n",
       "    <tr style=\"text-align: right;\">\n",
       "      <th></th>\n",
       "      <th>tf. Test predictions</th>\n",
       "      <th>xg.Test predictions</th>\n",
       "      <th>Actuals</th>\n",
       "    </tr>\n",
       "  </thead>\n",
       "  <tbody>\n",
       "    <tr>\n",
       "      <th>0</th>\n",
       "      <td>0.000281</td>\n",
       "      <td>0</td>\n",
       "      <td>0</td>\n",
       "    </tr>\n",
       "    <tr>\n",
       "      <th>1</th>\n",
       "      <td>0.000095</td>\n",
       "      <td>0</td>\n",
       "      <td>0</td>\n",
       "    </tr>\n",
       "    <tr>\n",
       "      <th>2</th>\n",
       "      <td>0.000120</td>\n",
       "      <td>0</td>\n",
       "      <td>0</td>\n",
       "    </tr>\n",
       "    <tr>\n",
       "      <th>3</th>\n",
       "      <td>0.000262</td>\n",
       "      <td>0</td>\n",
       "      <td>0</td>\n",
       "    </tr>\n",
       "    <tr>\n",
       "      <th>4</th>\n",
       "      <td>0.000998</td>\n",
       "      <td>0</td>\n",
       "      <td>0</td>\n",
       "    </tr>\n",
       "    <tr>\n",
       "      <th>...</th>\n",
       "      <td>...</td>\n",
       "      <td>...</td>\n",
       "      <td>...</td>\n",
       "    </tr>\n",
       "    <tr>\n",
       "      <th>27281</th>\n",
       "      <td>0.000039</td>\n",
       "      <td>0</td>\n",
       "      <td>0</td>\n",
       "    </tr>\n",
       "    <tr>\n",
       "      <th>27282</th>\n",
       "      <td>0.000096</td>\n",
       "      <td>0</td>\n",
       "      <td>0</td>\n",
       "    </tr>\n",
       "    <tr>\n",
       "      <th>27283</th>\n",
       "      <td>0.000003</td>\n",
       "      <td>0</td>\n",
       "      <td>0</td>\n",
       "    </tr>\n",
       "    <tr>\n",
       "      <th>27284</th>\n",
       "      <td>0.000313</td>\n",
       "      <td>0</td>\n",
       "      <td>0</td>\n",
       "    </tr>\n",
       "    <tr>\n",
       "      <th>27285</th>\n",
       "      <td>0.000735</td>\n",
       "      <td>0</td>\n",
       "      <td>0</td>\n",
       "    </tr>\n",
       "  </tbody>\n",
       "</table>\n",
       "<p>27286 rows × 3 columns</p>\n",
       "</div>"
      ],
      "text/plain": [
       "        tf. Test predictions  xg.Test predictions  Actuals\n",
       "0                   0.000281                    0        0\n",
       "1                   0.000095                    0        0\n",
       "2                   0.000120                    0        0\n",
       "3                   0.000262                    0        0\n",
       "4                   0.000998                    0        0\n",
       "...                      ...                  ...      ...\n",
       "27281               0.000039                    0        0\n",
       "27282               0.000096                    0        0\n",
       "27283               0.000003                    0        0\n",
       "27284               0.000313                    0        0\n",
       "27285               0.000735                    0        0\n",
       "\n",
       "[27286 rows x 3 columns]"
      ]
     },
     "execution_count": 32,
     "metadata": {},
     "output_type": "execute_result"
    }
   ],
   "source": [
    "test_results = pd.DataFrame(data={' tf. Test predictions': test_predictions, 'xg.Test predictions': y_pred, 'Actuals': y_test})\n",
    "test_results"
   ]
  },
  {
   "cell_type": "code",
   "execution_count": 33,
   "id": "84107855",
   "metadata": {},
   "outputs": [
    {
     "data": {
      "text/plain": [
       "array([0, 0, 0, ..., 0, 0, 0], dtype=int64)"
      ]
     },
     "execution_count": 33,
     "metadata": {},
     "output_type": "execute_result"
    }
   ],
   "source": [
    "y_test"
   ]
  },
  {
   "cell_type": "code",
   "execution_count": null,
   "id": "b7f4be90",
   "metadata": {},
   "outputs": [],
   "source": []
  },
  {
   "cell_type": "code",
   "execution_count": null,
   "id": "0b139e44",
   "metadata": {},
   "outputs": [],
   "source": []
  }
 ],
 "metadata": {
  "kernelspec": {
   "display_name": "Python 3 (ipykernel)",
   "language": "python",
   "name": "python3"
  },
  "language_info": {
   "codemirror_mode": {
    "name": "ipython",
    "version": 3
   },
   "file_extension": ".py",
   "mimetype": "text/x-python",
   "name": "python",
   "nbconvert_exporter": "python",
   "pygments_lexer": "ipython3",
   "version": "3.10.9"
  }
 },
 "nbformat": 4,
 "nbformat_minor": 5
}
